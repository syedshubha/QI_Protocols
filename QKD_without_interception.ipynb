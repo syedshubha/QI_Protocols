{
 "cells": [
  {
   "cell_type": "markdown",
   "id": "be73434c",
   "metadata": {},
   "source": [
    "## We are assuming no eavesdropping here."
   ]
  },
  {
   "cell_type": "code",
   "execution_count": 1,
   "id": "7d0762bf",
   "metadata": {},
   "outputs": [
    {
     "name": "stderr",
     "output_type": "stream",
     "text": [
      "C:\\Users\\User\\miniconda3\\lib\\site-packages\\numpy\\_distributor_init.py:30: UserWarning: loaded more than 1 DLL from .libs:\n",
      "C:\\Users\\User\\miniconda3\\lib\\site-packages\\numpy\\.libs\\libopenblas.XWYDX2IKJW2NMTWSFYNGFUWKQU3LYTCZ.gfortran-win_amd64.dll\n",
      "C:\\Users\\User\\miniconda3\\lib\\site-packages\\numpy\\.libs\\libopenblas64__v0.3.23-gcc_10_3_0.dll\n",
      "  warnings.warn(\"loaded more than 1 DLL from .libs:\"\n"
     ]
    }
   ],
   "source": [
    "from qiskit import QuantumCircuit, execute, Aer, transpile\n",
    "from qiskit.visualization import plot_histogram, plot_bloch_multivector, array_to_latex\n",
    "from numpy.random import randint\n",
    "from numpy import *\n",
    "from qiskit.providers.aer import QasmSimulator\n",
    "%matplotlib inline"
   ]
  },
  {
   "cell_type": "markdown",
   "id": "52b31bd3",
   "metadata": {},
   "source": [
    "# BB84 Protocol"
   ]
  },
  {
   "cell_type": "code",
   "execution_count": 2,
   "id": "f4f68fac",
   "metadata": {},
   "outputs": [
    {
     "name": "stdout",
     "output_type": "stream",
     "text": [
      "Alice's State:\t [1 1 1 1 0 0 0 1 1 1 0 1 0 0 1 0 0 1 1 0 1 1 0 0 1 1 0 0 0 0 0 1 1 1 0 1 0\n",
      " 1 1 1 0 1 1 0 1 0 1 1 1 0 0 0 1 1 0 1 0 0 1 0 1 0 0 1 0 1 0 1 0 0 0 0]\n",
      "Alice's Bases:\t [0 0 0 1 0 1 1 0 1 1 0 0 1 0 0 0 0 0 1 1 1 1 1 1 1 0 1 1 1 0 0 1 1 0 0 0 0\n",
      " 1 0 1 1 1 0 1 0 1 1 0 1 1 1 1 1 1 1 0 1 0 0 1 1 0 0 1 0 0 1 1 1 1 0 1]\n"
     ]
    }
   ],
   "source": [
    "#Step-1: Binary String Generation\n",
    "n = 72 #number of qubits\n",
    "\n",
    "alice_basis = randint(2, size=n)\n",
    "alice_state = randint(2, size=n)\n",
    "\n",
    "print(\"Alice's State:\\t\", alice_state)\n",
    "print(\"Alice's Bases:\\t\",alice_basis)"
   ]
  },
  {
   "cell_type": "code",
   "execution_count": 3,
   "id": "763b27b9",
   "metadata": {},
   "outputs": [],
   "source": [
    "def encode_message(bits, bases):\n",
    "    message = []\n",
    "    for i in range(n):\n",
    "        qc = QuantumCircuit(1,1)\n",
    "        if bits[i] == 1: # Prepare qubit in Z-basis\n",
    "                qc.x(0)\n",
    "        if bases[i] == 0:\n",
    "                qc.h(0)\n",
    "        qc.barrier()\n",
    "        message.append(qc)\n",
    "    return message"
   ]
  },
  {
   "cell_type": "code",
   "execution_count": 4,
   "id": "a7382ff2",
   "metadata": {},
   "outputs": [
    {
     "data": {
      "image/png": "[encoded data removed]",
      "text/plain": [
       "<Figure size 133.526x144.48 with 1 Axes>"
      ]
     },
     "execution_count": 4,
     "metadata": {},
     "output_type": "execute_result"
    }
   ],
   "source": [
    "#Step-2: \n",
    "message = encode_message(alice_state, alice_basis)\n",
    "message[6].draw(\"mpl\")"
   ]
  },
  {
   "cell_type": "code",
   "execution_count": 5,
   "id": "b1f7b1f5",
   "metadata": {},
   "outputs": [],
   "source": [
    "def measure_message(message, bases):\n",
    "    backend = Aer.get_backend('aer_simulator')\n",
    "    measurements = []\n",
    "    for q in range(n):\n",
    "        if bases[q] == 0: # measuring in Z-basis\n",
    "            message[q].measure(0,0)\n",
    "        if bases[q] == 1: # measuring in X-basis\n",
    "            message[q].h(0)\n",
    "            message[q].measure(0,0)\n",
    "        aer_sim = Aer.get_backend('aer_simulator')\n",
    "        result = aer_sim.run(message[q], shots=1, memory=True).result()\n",
    "        measured_bit = int(result.get_memory()[0])\n",
    "        measurements.append(measured_bit)\n",
    "    return measurements"
   ]
  },
  {
   "cell_type": "code",
   "execution_count": 6,
   "id": "850d87fb",
   "metadata": {},
   "outputs": [
    {
     "name": "stdout",
     "output_type": "stream",
     "text": [
      "Bob's Bases:\t [0 0 0 1 0 1 1 1 1 0 0 1 0 0 1 1 0 1 0 0 1 0 0 1 1 0 0 0 1 1 1 0 0 0 1 1 1\n",
      " 0 0 0 0 1 0 0 1 1 0 0 0 0 1 1 0 0 1 1 1 0 1 0 1 0 0 1 1 0 0 0 0 0 0 0]\n"
     ]
    }
   ],
   "source": [
    "## Step 3\n",
    "bob_basis = randint(2, size=n)\n",
    "print(\"Bob's Bases:\\t\",bob_basis)\n",
    "bob_results = measure_message(message, bob_basis)"
   ]
  },
  {
   "cell_type": "code",
   "execution_count": 7,
   "id": "bc1878cf",
   "metadata": {},
   "outputs": [
    {
     "name": "stdout",
     "output_type": "stream",
     "text": [
      "[0, 1, 0, 1, 0, 1, 1, 1, 0, 1, 0, 1, 0, 0, 1, 0, 1, 1, 1, 0, 1, 1, 0, 1, 1, 1, 0, 0, 1, 0, 0, 1, 1, 0, 0, 1, 0, 1, 0, 1, 0, 1, 1, 0, 1, 1, 1, 1, 1, 0, 1, 0, 1, 1, 0, 1, 0, 0, 1, 0, 0, 0, 1, 1, 0, 0, 0, 1, 0, 0, 1, 0]\n"
     ]
    }
   ],
   "source": [
    "print(bob_results)"
   ]
  },
  {
   "cell_type": "code",
   "execution_count": 8,
   "id": "2f7e1f0c",
   "metadata": {},
   "outputs": [],
   "source": [
    "def remove_garbage(a_bases, b_bases, bits):\n",
    "    good_bits = []\n",
    "    for q in range(n):\n",
    "        if a_bases[q] == b_bases[q]:\n",
    "            good_bits.append(bits[q])\n",
    "    return good_bits"
   ]
  },
  {
   "cell_type": "code",
   "execution_count": 9,
   "id": "35f3b0ce",
   "metadata": {},
   "outputs": [
    {
     "name": "stdout",
     "output_type": "stream",
     "text": [
      "[1, 1, 1, 1, 0, 0, 0, 1, 0, 0, 0, 1, 0, 1, 1, 0, 1, 1, 1, 1, 0, 1, 0, 0, 0, 0, 0, 1, 0, 0, 1, 1, 0]\n"
     ]
    }
   ],
   "source": [
    "## Step 4\n",
    "shared_key = remove_garbage(alice_basis, bob_basis, alice_state)\n",
    "print(shared_key)"
   ]
  },
  {
   "cell_type": "markdown",
   "id": "ca46d3b0",
   "metadata": {},
   "source": [
    "# E91 Protocol"
   ]
  },
  {
   "cell_type": "code",
   "execution_count": 10,
   "id": "3caef4fb",
   "metadata": {},
   "outputs": [],
   "source": [
    "n = 500 #number of circuits\n",
    "AliceBasis = [randint(3) for i in range(n)] \n",
    "BobBasis = [randint(3) for i in range(n)] \n",
    "CIRCUIT=[]\n",
    "for i in range(n):\n",
    "    qc= QuantumCircuit(2,2)\n",
    "    qc.h(0)\n",
    "    qc.cx(0,1)\n",
    "    #insert measurements\n",
    "    CIRCUIT.append(qc)"
   ]
  },
  {
   "cell_type": "code",
   "execution_count": null,
   "id": "ab78107a",
   "metadata": {},
   "outputs": [],
   "source": []
  }
 ],
 "metadata": {
  "kernelspec": {
   "display_name": "Python 3 (ipykernel)",
   "language": "python",
   "name": "python3"
  },
  "language_info": {
   "codemirror_mode": {
    "name": "ipython",
    "version": 3
   },
   "file_extension": ".py",
   "mimetype": "text/x-python",
   "name": "python",
   "nbconvert_exporter": "python",
   "pygments_lexer": "ipython3",
   "version": "3.9.5"
  }
 },
 "nbformat": 4,
 "nbformat_minor": 5
}
